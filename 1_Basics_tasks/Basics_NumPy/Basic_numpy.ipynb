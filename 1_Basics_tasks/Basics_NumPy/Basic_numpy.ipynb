{
 "cells": [
  {
   "cell_type": "code",
   "execution_count": 1,
   "id": "808a7e7a",
   "metadata": {},
   "outputs": [
    {
     "name": "stdout",
     "output_type": "stream",
     "text": [
      "[10 15  7 20 25 30  5]\n"
     ]
    }
   ],
   "source": [
    "# Create a NumPy array representing the number of job applications received each day for a week (7 days). \n",
    "# The array should be called applications and contain the following numbers: [10, 15, 7, 20, 25, 30, 5]. Print the array.\n",
    "\n",
    "import numpy as np\n",
    "\n",
    "applications_list = [10, 15, 7, 20, 25, 30, 5]\n",
    "applications = np.array(applications_list)\n",
    "print(applications)\n"
   ]
  },
  {
   "cell_type": "code",
   "execution_count": 2,
   "id": "8a5de211",
   "metadata": {},
   "outputs": [
    {
     "name": "stdout",
     "output_type": "stream",
     "text": [
      "[10 15  7]\n"
     ]
    }
   ],
   "source": [
    "# Create a NumPy array representing the number of job postings for different job titles called postings. The array contains [10, 15, 7, 20, 25, 30, 5]. \n",
    "# Use slicing to get the number of postings for the first three job titles.\n",
    "\n",
    "\n",
    "postings_list = [10, 15, 7, 20, 25, 30, 5]\n",
    "postings = np.array(postings_list)\n",
    "first_three_postings = postings[:3]\n",
    "print(first_three_postings)\n"
   ]
  },
  {
   "cell_type": "code",
   "execution_count": 4,
   "id": "e83dfd96",
   "metadata": {},
   "outputs": [
    {
     "name": "stdout",
     "output_type": "stream",
     "text": [
      "95000 60000\n"
     ]
    }
   ],
   "source": [
    "# Create a NumPy array representing the salaries called salaries offered for five different job positions. Calculate the highest and lowest salary using NumPy functions. \n",
    "# The array salaries contains [70000, 85000, 60000, 95000, 80000].\n",
    "\n",
    "salaries_list = [70000, 85000, 60000, 95000, 80000]\n",
    "salaries = np.array(salaries_list)\n",
    "highest_salary = np.max(salaries)\n",
    "lowest_salary = np.min(salaries)\n",
    "print(highest_salary, lowest_salary)\n"
   ]
  }
 ],
 "metadata": {
  "kernelspec": {
   "display_name": "data_project",
   "language": "python",
   "name": "python3"
  },
  "language_info": {
   "codemirror_mode": {
    "name": "ipython",
    "version": 3
   },
   "file_extension": ".py",
   "mimetype": "text/x-python",
   "name": "python",
   "nbconvert_exporter": "python",
   "pygments_lexer": "ipython3",
   "version": "3.13.5"
  }
 },
 "nbformat": 4,
 "nbformat_minor": 5
}
