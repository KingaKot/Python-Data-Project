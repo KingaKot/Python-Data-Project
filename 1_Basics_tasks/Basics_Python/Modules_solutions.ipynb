{
 "cells": [
  {
   "cell_type": "code",
   "execution_count": null,
   "id": "7924f385",
   "metadata": {},
   "outputs": [
    {
     "name": "stdout",
     "output_type": "stream",
     "text": [
      "104000\n"
     ]
    }
   ],
   "source": [
    "# Create a module named salary_calculator with a function calculate_annual_salary that takes an hourly wage and hours per week, and returns the annual salary. \n",
    "# Import this module and use the function to calculate the annual salary for an hourly wage of $50 and 40 hours per week.\n",
    "\n",
    "\n",
    "import salary_calculator\n",
    "annual_salary = salary_calculator.calculate_annual_salary(50, 40)\n",
    "print(annual_salary)\n"
   ]
  },
  {
   "cell_type": "code",
   "execution_count": 2,
   "id": "4ec117de",
   "metadata": {},
   "outputs": [
    {
     "name": "stdout",
     "output_type": "stream",
     "text": [
      "[{'title': 'Data Scientist', 'location': 'New York'}, {'title': 'Machine Learning Engineer', 'location': 'New York'}]\n"
     ]
    }
   ],
   "source": [
    "# Create a module named job_filter with a function filter_by_location that takes a list of job postings and a location and returns a list of job postings in that location. \n",
    "# Import this module and use the function to filter job postings in 'New York'. Use the variable of job_postings shown below.\n",
    "\n",
    "\n",
    "import job_filter\n",
    "job_postings = [\n",
    "    {'title': 'Data Scientist', 'location': 'New York'},\n",
    "    {'title': 'Data Analyst', 'location': 'San Francisco'},\n",
    "    {'title': 'Machine Learning Engineer', 'location': 'New York'}\n",
    "]\n",
    "filtered_jobs = job_filter.filter_by_location(job_postings, 'New York')\n",
    "print(filtered_jobs)\n"
   ]
  }
 ],
 "metadata": {
  "kernelspec": {
   "display_name": "data_project",
   "language": "python",
   "name": "python3"
  },
  "language_info": {
   "codemirror_mode": {
    "name": "ipython",
    "version": 3
   },
   "file_extension": ".py",
   "mimetype": "text/x-python",
   "name": "python",
   "nbconvert_exporter": "python",
   "pygments_lexer": "ipython3",
   "version": "3.13.5"
  }
 },
 "nbformat": 4,
 "nbformat_minor": 5
}
