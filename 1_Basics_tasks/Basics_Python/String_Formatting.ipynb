{
 "cells": [
  {
   "cell_type": "code",
   "execution_count": 1,
   "id": "1bf69904",
   "metadata": {},
   "outputs": [
    {
     "name": "stdout",
     "output_type": "stream",
     "text": [
      "Job Title: Data Scientist\n"
     ]
    }
   ],
   "source": [
    "# Concatenate the string 'Job Title: ' with the variable job_title which is set to 'Data Scientist'.\n",
    "\n",
    "job_title = 'Data Scientist'\n",
    "result = 'Job Title: ' + job_title\n",
    "print(result)\n"
   ]
  },
  {
   "cell_type": "code",
   "execution_count": 2,
   "id": "b5832d81",
   "metadata": {},
   "outputs": [
    {
     "name": "stdout",
     "output_type": "stream",
     "text": [
      "Data Scientist at DataWiz Inc.\n"
     ]
    }
   ],
   "source": [
    "# Format a string to include the variables position and company using f-strings. \n",
    "# The variables are set to 'Data Scientist' and 'DataWiz Inc.' respectively. The final string should state: 'Data Scientist at DataWiz'.\n",
    "\n",
    "position = 'Data Scientist'\n",
    "company = 'DataWiz Inc.'\n",
    "result = f'{position} at {company}'\n",
    "print(result)"
   ]
  },
  {
   "cell_type": "code",
   "execution_count": 3,
   "id": "145fb3aa",
   "metadata": {},
   "outputs": [
    {
     "name": "stdout",
     "output_type": "stream",
     "text": [
      "Role: Data Analyst, Skill: Python\n"
     ]
    }
   ],
   "source": [
    "# Use the str.format() method to format the string to include the variables role and skill. The variables are set to 'Data Analyst' and 'Python' respectively.\n",
    "#  The final string should state: 'Role: Data Analyst, Skill: Python'\n",
    "\n",
    "role = 'Data Analyst'\n",
    "skill = 'Python'\n",
    "result = 'Role: {}, Skill: {}'.format(role, skill)\n",
    "print(result)"
   ]
  },
  {
   "cell_type": "code",
   "execution_count": 4,
   "id": "e799b5f3",
   "metadata": {},
   "outputs": [
    {
     "name": "stdout",
     "output_type": "stream",
     "text": [
      "Role: Data Engineer, Skill: SQL\n"
     ]
    }
   ],
   "source": [
    "# Use %-formatting to format the string to include the variables role and skill. The variables are set to 'Data Engineer' and 'SQL' respectively.\n",
    "#  The final string should state: 'Role: Data Engineer, Skill: SQL'\n",
    "\n",
    "role = 'Data Engineer'\n",
    "skill = 'SQL'\n",
    "result = 'Role: %s, Skill: %s' % (role, skill)\n",
    "print(result)"
   ]
  }
 ],
 "metadata": {
  "kernelspec": {
   "display_name": "data_project",
   "language": "python",
   "name": "python3"
  },
  "language_info": {
   "codemirror_mode": {
    "name": "ipython",
    "version": 3
   },
   "file_extension": ".py",
   "mimetype": "text/x-python",
   "name": "python",
   "nbconvert_exporter": "python",
   "pygments_lexer": "ipython3",
   "version": "3.13.5"
  }
 },
 "nbformat": 4,
 "nbformat_minor": 5
}
