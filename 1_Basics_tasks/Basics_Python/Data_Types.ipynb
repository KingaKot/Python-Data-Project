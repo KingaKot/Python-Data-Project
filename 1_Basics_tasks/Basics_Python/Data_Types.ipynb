{
 "cells": [
  {
   "cell_type": "code",
   "execution_count": 1,
   "id": "7248b17f",
   "metadata": {},
   "outputs": [
    {
     "name": "stdout",
     "output_type": "stream",
     "text": [
      "<class 'str'>\n"
     ]
    }
   ],
   "source": [
    "# Check the data type of the variable job_title which is set to 'Data Scientist' (Note: 'Data Scientist' is in quotes).\n",
    "\n",
    "job_title = 'Data Scientist'\n",
    "print(type(job_title))"
   ]
  },
  {
   "cell_type": "code",
   "execution_count": 2,
   "id": "8bda9fb5",
   "metadata": {},
   "outputs": [
    {
     "name": "stdout",
     "output_type": "stream",
     "text": [
      "<class 'float'>\n"
     ]
    }
   ],
   "source": [
    "# Create a variable salary with the value 85000.50 and check its data type.\n",
    "\n",
    "salary = 85000.50\n",
    "print(type(salary))"
   ]
  },
  {
   "cell_type": "code",
   "execution_count": 3,
   "id": "d6cbd12a",
   "metadata": {},
   "outputs": [
    {
     "name": "stdout",
     "output_type": "stream",
     "text": [
      "<class 'int'>\n"
     ]
    }
   ],
   "source": [
    "# Convert the float of 120000.75, assigned to the variable salary_rate, to an integer; Print its type after conversion to verify it is an integer.\n",
    "\n",
    "salary_rate = 120000.75\n",
    "salary_rate = int(salary_rate)\n",
    "print(type(salary_rate))"
   ]
  },
  {
   "cell_type": "code",
   "execution_count": 4,
   "id": "ede185f8",
   "metadata": {},
   "outputs": [
    {
     "name": "stdout",
     "output_type": "stream",
     "text": [
      "True\n"
     ]
    }
   ],
   "source": [
    "# Check if the variable company_name is of the type str. company_name is set to 'DataWiz Inc.'. \n",
    "\n",
    "company_name = 'DataWiz Inc.'\n",
    "print(isinstance(company_name, str))"
   ]
  }
 ],
 "metadata": {
  "kernelspec": {
   "display_name": "data_project",
   "language": "python",
   "name": "python3"
  },
  "language_info": {
   "codemirror_mode": {
    "name": "ipython",
    "version": 3
   },
   "file_extension": ".py",
   "mimetype": "text/x-python",
   "name": "python",
   "nbconvert_exporter": "python",
   "pygments_lexer": "ipython3",
   "version": "3.13.5"
  }
 },
 "nbformat": 4,
 "nbformat_minor": 5
}
