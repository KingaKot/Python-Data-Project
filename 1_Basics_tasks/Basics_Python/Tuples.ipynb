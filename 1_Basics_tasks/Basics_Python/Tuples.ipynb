{
 "cells": [
  {
   "cell_type": "code",
   "execution_count": 1,
   "id": "48124fd0",
   "metadata": {},
   "outputs": [
    {
     "name": "stdout",
     "output_type": "stream",
     "text": [
      "Data Analyst\n"
     ]
    }
   ],
   "source": [
    "# Access the second job role from the tuple job_roles and print it. The job_roles variable is set to ('Data Scientist', 'Data Analyst', 'Machine Learning Engineer').\n",
    "\n",
    "job_roles = ('Data Scientist', 'Data Analyst', 'Machine Learning Engineer')\n",
    "print(job_roles[1])\n"
   ]
  },
  {
   "cell_type": "code",
   "execution_count": 2,
   "id": "350b4420",
   "metadata": {},
   "outputs": [
    {
     "name": "stdout",
     "output_type": "stream",
     "text": [
      "('Data Scientist', 'Data Analyst', 'Machine Learning Engineer', 'AI Specialist')\n"
     ]
    }
   ],
   "source": [
    "# Create a new tuple extended_job_roles by adding the job role 'AI Specialist' to the existing tuple job_roles. \n",
    "# Print the new tuple. The job_roles is set to job_roles = ('Data Scientist', 'Data Analyst', 'Machine Learning Engineer').\n",
    "\n",
    "job_roles = ('Data Scientist', 'Data Analyst', 'Machine Learning Engineer')\n",
    "extended_job_roles = job_roles + ('AI Specialist',)\n",
    "print(extended_job_roles)"
   ]
  },
  {
   "cell_type": "code",
   "execution_count": 3,
   "id": "0266b03d",
   "metadata": {},
   "outputs": [
    {
     "name": "stdout",
     "output_type": "stream",
     "text": [
      "('Data Scientist', 'Machine Learning Engineer')\n"
     ]
    }
   ],
   "source": [
    "# Remove the job role 'Data Analyst' from the tuple job_roles by converting it to a list and then back to a tuple. Print the updated tuple. \n",
    "# The tuple job_roles is set to ('Data Scientist', 'Data Analyst', 'Machine Learning Engineer').\n",
    "\n",
    "job_roles = ('Data Scientist', 'Data Analyst', 'Machine Learning Engineer')\n",
    "job_roles_list = list(job_roles)\n",
    "job_roles_list.remove('Data Analyst')\n",
    "updated_job_roles = tuple(job_roles_list)\n",
    "print(updated_job_roles)"
   ]
  },
  {
   "cell_type": "code",
   "execution_count": 4,
   "id": "4a312012",
   "metadata": {},
   "outputs": [
    {
     "name": "stdout",
     "output_type": "stream",
     "text": [
      "120\n",
      "80\n",
      "50\n"
     ]
    }
   ],
   "source": [
    "# Unpack the tuple job_postings into three variables data_scientist_postings, data_analyst_postings, and ml_engineer_postings. \n",
    "# Print each variable. The variable job_postings is set to (120, 80, 50).\n",
    "\n",
    "job_postings = (120, 80, 50)\n",
    "data_scientist_postings, data_analyst_postings, ml_engineer_postings = job_postings\n",
    "print(data_scientist_postings)\n",
    "print(data_analyst_postings)\n",
    "print(ml_engineer_postings)"
   ]
  },
  {
   "cell_type": "code",
   "execution_count": 5,
   "id": "d9c8421e",
   "metadata": {},
   "outputs": [
    {
     "name": "stdout",
     "output_type": "stream",
     "text": [
      "50\n"
     ]
    }
   ],
   "source": [
    "# Extract and print the number of postings for 'Machine Learning Engineer' from the nested tuple job_details. \n",
    "# The job_details is set to (('Data Scientist', 120), ('Data Analyst', 80), ('Machine Learning Engineer', 50)).\n",
    "\n",
    "job_details = (('Data Scientist', 120), ('Data Analyst', 80), ('Machine Learning Engineer', 50))\n",
    "print(job_details[2][1])"
   ]
  }
 ],
 "metadata": {
  "kernelspec": {
   "display_name": "data_project",
   "language": "python",
   "name": "python3"
  },
  "language_info": {
   "codemirror_mode": {
    "name": "ipython",
    "version": 3
   },
   "file_extension": ".py",
   "mimetype": "text/x-python",
   "name": "python",
   "nbconvert_exporter": "python",
   "pygments_lexer": "ipython3",
   "version": "3.13.5"
  }
 },
 "nbformat": 4,
 "nbformat_minor": 5
}
