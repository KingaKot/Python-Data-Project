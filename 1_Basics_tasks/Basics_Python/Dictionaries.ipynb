{
 "cells": [
  {
   "cell_type": "code",
   "execution_count": 1,
   "id": "833b205b",
   "metadata": {},
   "outputs": [
    {
     "name": "stdout",
     "output_type": "stream",
     "text": [
      "80\n"
     ]
    }
   ],
   "source": [
    "# Access the value of the number of job postings for the key 'Data Analyst' from the dictionary job_postings and print it.\n",
    "# The dictonary job_postings is set to {'Data Scientist': 120, 'Data Analyst': 80, 'Machine Learning Engineer': 50}.\n",
    "\n",
    "job_postings = {'Data Scientist': 120, 'Data Analyst': 80, 'Machine Learning Engineer': 50}\n",
    "print(job_postings['Data Analyst'])\n"
   ]
  },
  {
   "cell_type": "code",
   "execution_count": 2,
   "id": "8405f692",
   "metadata": {},
   "outputs": [
    {
     "name": "stdout",
     "output_type": "stream",
     "text": [
      "{'Data Scientist': 120, 'Data Analyst': 80, 'Machine Learning Engineer': 50, 'AI Specialist': 30}\n"
     ]
    }
   ],
   "source": [
    "# Add a new job role under the key 'AI Specialist' with a value of 30 postings to the dictionary job_postings and print the updated dictionary. \n",
    "# The dictionary job_postings is set to {'Data Scientist': 120, 'Data Analyst': 80, 'Machine Learning Engineer': 50}.\n",
    "\n",
    "job_postings = {'Data Scientist': 120, 'Data Analyst': 80, 'Machine Learning Engineer': 50}\n",
    "job_postings['AI Specialist'] = 30\n",
    "print(job_postings)"
   ]
  },
  {
   "cell_type": "code",
   "execution_count": 3,
   "id": "08fb1ccd",
   "metadata": {},
   "outputs": [
    {
     "name": "stdout",
     "output_type": "stream",
     "text": [
      "{'Data Scientist': 120, 'Data Analyst': 80}\n"
     ]
    }
   ],
   "source": [
    "# Remove the job role 'Machine Learning Engineer' from the dictionary job_postings and print the updated dictionary. \n",
    "# The dictonary job_postings is set to {'Data Scientist': 120, 'Data Analyst': 80, 'Machine Learning Engineer': 50}.\n",
    "\n",
    "job_postings = {'Data Scientist': 120, 'Data Analyst': 80, 'Machine Learning Engineer': 50}\n",
    "job_postings.pop('Machine Learning Engineer')\n",
    "print(job_postings)"
   ]
  },
  {
   "cell_type": "code",
   "execution_count": 4,
   "id": "bfd0bfdc",
   "metadata": {},
   "outputs": [
    {
     "name": "stdout",
     "output_type": "stream",
     "text": [
      "{'Data Scientist': 120, 'Data Analyst': 80, 'Machine Learning Engineer': 50, 'AI Specialist': 30}\n"
     ]
    }
   ],
   "source": [
    "# Merge two dictionaries job_postings1 and job_postings2 containing job roles and their postings.\n",
    "# With job_postings1 set to {'Data Scientist': 120, 'Data Analyst': 80} and job_postings2 to {'Machine Learning Engineer': 50, 'AI Specialist': 30}. Print the merged dictionary.\n",
    "\n",
    "job_postings1 = {'Data Scientist': 120, 'Data Analyst': 80}\n",
    "job_postings2 = {'Machine Learning Engineer': 50, 'AI Specialist': 30}\n",
    "job_postings1.update(job_postings2)\n",
    "print(job_postings1)\n"
   ]
  },
  {
   "cell_type": "code",
   "execution_count": 5,
   "id": "43be747e",
   "metadata": {},
   "outputs": [
    {
     "name": "stdout",
     "output_type": "stream",
     "text": [
      "{'Data Scientist': {'postings': 120, 'average_salary': 120000}, 'Data Analyst': {'postings': 80, 'average_salary': 80000}, 'Machine Learning Engineer': {'postings': 50, 'average_salary': 110000}}\n"
     ]
    }
   ],
   "source": [
    "# Create a nested dictionary job_details where each key is a job role and the value is another dictionary containing 'postings' and 'average_salary'. \n",
    "# The details for each are: 'Data Scientist' has 120 postings and an average salary of 120000; 'Data Analyst' has 80 postings and an average salary of 80000; \n",
    "# Machine Learning Engineer has 50 postings and average salary of 110000. Print the nested dictionary.\n",
    "\n",
    "job_details = {\n",
    "    'Data Scientist': {'postings': 120, 'average_salary': 120000},\n",
    "    'Data Analyst': {'postings': 80, 'average_salary': 80000},\n",
    "    'Machine Learning Engineer': {'postings': 50, 'average_salary': 110000}\n",
    "}\n",
    "print(job_details)"
   ]
  }
 ],
 "metadata": {
  "kernelspec": {
   "display_name": "data_project",
   "language": "python",
   "name": "python3"
  },
  "language_info": {
   "codemirror_mode": {
    "name": "ipython",
    "version": 3
   },
   "file_extension": ".py",
   "mimetype": "text/x-python",
   "name": "python",
   "nbconvert_exporter": "python",
   "pygments_lexer": "ipython3",
   "version": "3.13.5"
  }
 },
 "nbformat": 4,
 "nbformat_minor": 5
}
