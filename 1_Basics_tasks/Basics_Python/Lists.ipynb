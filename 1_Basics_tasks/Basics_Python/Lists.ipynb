{
 "cells": [
  {
   "cell_type": "code",
   "execution_count": 1,
   "id": "20ace234",
   "metadata": {},
   "outputs": [
    {
     "name": "stdout",
     "output_type": "stream",
     "text": [
      "Data Analyst\n"
     ]
    }
   ],
   "source": [
    "# Access the second job title in the list of job titles for data science roles and print it. \n",
    "# The variable job_titles is set to ['Data Scientist', 'Data Analyst', 'Machine Learning Engineer'].\n",
    "\n",
    "job_titles = ['Data Scientist', 'Data Analyst', 'Machine Learning Engineer']\n",
    "print(job_titles[1])\n"
   ]
  },
  {
   "cell_type": "code",
   "execution_count": 2,
   "id": "cd8c48aa",
   "metadata": {},
   "outputs": [
    {
     "name": "stdout",
     "output_type": "stream",
     "text": [
      "['Data Scientist', 'Data Analyst', 'AI Specialist']\n"
     ]
    }
   ],
   "source": [
    "# Change the third job title in the list of job titles for data science roles to 'AI Specialist' and print the updated list. \n",
    "# The variable job_titles is set to ['Data Scientist', 'Data Analyst', 'Machine Learning Engineer'].\n",
    "\n",
    "job_titles = ['Data Scientist', 'Data Analyst', 'Machine Learning Engineer']\n",
    "job_titles[2] = 'AI Specialist'\n",
    "print(job_titles)"
   ]
  },
  {
   "cell_type": "code",
   "execution_count": 3,
   "id": "4354cfa6",
   "metadata": {},
   "outputs": [
    {
     "name": "stdout",
     "output_type": "stream",
     "text": [
      "['Data Scientist', 'Data Analyst']\n"
     ]
    }
   ],
   "source": [
    "# Slice the list of job titles for data science roles to get the first two job titles and print the result. \n",
    "# The list is ['Data Scientist', 'Data Analyst', 'Machine Learning Engineer', 'Data Engineer'].\n",
    "\n",
    "job_titles = ['Data Scientist', 'Data Analyst', 'Machine Learning Engineer', 'Data Engineer']\n",
    "first_two = job_titles[:2]\n",
    "print(first_two)"
   ]
  },
  {
   "cell_type": "code",
   "execution_count": 4,
   "id": "0aa0652b",
   "metadata": {},
   "outputs": [
    {
     "name": "stdout",
     "output_type": "stream",
     "text": [
      "['Data Scientist', 'Data Analyst', 'Machine Learning Engineer', 'Data Engineer']\n"
     ]
    }
   ],
   "source": [
    "# Add a new job title 'Data Engineer' to the end of the list of job titles for data science roles and print the updated list. \n",
    "# The variable job_titles is set to ['Data Scientist', 'Data Analyst', 'Machine Learning Engineer'].\n",
    "\n",
    "job_titles = ['Data Scientist', 'Data Analyst', 'Machine Learning Engineer']\n",
    "job_titles.append('Data Engineer')\n",
    "print(job_titles)"
   ]
  },
  {
   "cell_type": "code",
   "execution_count": 5,
   "id": "917c1692",
   "metadata": {},
   "outputs": [
    {
     "name": "stdout",
     "output_type": "stream",
     "text": [
      "['Data Scientist', 'Business Analyst', 'Data Analyst', 'Machine Learning Engineer']\n"
     ]
    }
   ],
   "source": [
    "# Insert a new job title 'Business Analyst' at the second position in the list of job titles for data science roles and print the updated list. \n",
    "# The variable job_titles is set to ['Data Scientist', 'Data Analyst', 'Machine Learning Engineer'].\n",
    "\n",
    "job_titles = ['Data Scientist', 'Data Analyst', 'Machine Learning Engineer']\n",
    "job_titles.insert(1, 'Business Analyst')\n",
    "print(job_titles)"
   ]
  }
 ],
 "metadata": {
  "kernelspec": {
   "display_name": "data_project",
   "language": "python",
   "name": "python3"
  },
  "language_info": {
   "codemirror_mode": {
    "name": "ipython",
    "version": 3
   },
   "file_extension": ".py",
   "mimetype": "text/x-python",
   "name": "python",
   "nbconvert_exporter": "python",
   "pygments_lexer": "ipython3",
   "version": "3.13.5"
  }
 },
 "nbformat": 4,
 "nbformat_minor": 5
}
