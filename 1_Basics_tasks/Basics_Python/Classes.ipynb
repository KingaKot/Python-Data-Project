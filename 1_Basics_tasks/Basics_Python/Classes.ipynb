{
 "cells": [
  {
   "cell_type": "code",
   "execution_count": 1,
   "id": "0d0b6458",
   "metadata": {},
   "outputs": [
    {
     "name": "stdout",
     "output_type": "stream",
     "text": [
      "Data Scientist\n",
      "Tech Innovations\n",
      "New York\n"
     ]
    }
   ],
   "source": [
    "# Create a class named JobPosting with attributes title, company, and location.\n",
    "# Create an instance of an object (called job) of this class with the title 'Data Scientist', company 'Tech Innovations', and location 'New York'.\n",
    "# Print the attributes of the object.\n",
    "\n",
    "class JobPosting:\n",
    "    def __init__(self, title, company, location):\n",
    "        self.title = title\n",
    "        self.company = company\n",
    "        self.location = location\n",
    "\n",
    "job = JobPosting('Data Scientist', 'Tech Innovations', 'New York')\n",
    "\n",
    "print(job.title)\n",
    "print(job.company)\n",
    "print(job.location)\n"
   ]
  },
  {
   "cell_type": "code",
   "execution_count": 2,
   "id": "1b9846b0",
   "metadata": {},
   "outputs": [
    {
     "name": "stdout",
     "output_type": "stream",
     "text": [
      "{'title': 'Data Scientist', 'company': 'Tech Innovations', 'location': 'New York', 'salary': 120000}\n"
     ]
    }
   ],
   "source": [
    "# Create a class named JobPosting with a method to_dict that converts the job posting details to a dictionary.\n",
    "# Instantiate an object (called job) of this class with the title 'Data Scientist', company 'Tech Innovations', location 'New York', and salary as 120000.\n",
    "# Convert its details to a dictionary using the to_dict method.Print the dictionary.\n",
    "\n",
    "class JobPosting:\n",
    "    def __init__(self, title, company, location, salary):\n",
    "        self.title = title\n",
    "        self.company = company\n",
    "        self.location = location\n",
    "        self.salary = salary\n",
    "    \n",
    "    def to_dict(self):\n",
    "        return {\n",
    "            'title': self.title,\n",
    "            'company': self.company,\n",
    "            'location': self.location,\n",
    "            'salary': self.salary\n",
    "        }\n",
    "\n",
    "job = JobPosting('Data Scientist', 'Tech Innovations', 'New York', 120000)\n",
    "\n",
    "print(job.to_dict())\n"
   ]
  },
  {
   "cell_type": "code",
   "execution_count": 3,
   "id": "05679491",
   "metadata": {},
   "outputs": [
    {
     "name": "stdout",
     "output_type": "stream",
     "text": [
      "Data Scientist\n"
     ]
    }
   ],
   "source": [
    "# Create a class named JobPosting with a method compare_salary that compares the salary of two job postings and returns the title of the job with the higher salary.\n",
    "# Instantiate two objects called job1 and job2 of this class and compare their salaries using the compare_salary method.\n",
    "# The two objects are defined below in the code needed.\n",
    "\n",
    "class JobPosting:\n",
    "    def __init__(self, title, company, location, salary):\n",
    "        self.title = title\n",
    "        self.company = company\n",
    "        self.location = location\n",
    "        self.salary = salary\n",
    "    \n",
    "    def compare_salary(self, other_job):\n",
    "        if self.salary > other_job.salary:\n",
    "            return self.title\n",
    "        else:\n",
    "            return other_job.title\n",
    "\n",
    "job1 = JobPosting('Data Scientist', 'Tech Innovations', 'New York', 120000)\n",
    "job2 = JobPosting('Data Analyst', 'Data Driven Co', 'San Francisco', 100000)\n",
    "\n",
    "print(job1.compare_salary(job2))\n"
   ]
  }
 ],
 "metadata": {
  "kernelspec": {
   "display_name": "data_project",
   "language": "python",
   "name": "python3"
  },
  "language_info": {
   "codemirror_mode": {
    "name": "ipython",
    "version": 3
   },
   "file_extension": ".py",
   "mimetype": "text/x-python",
   "name": "python",
   "nbconvert_exporter": "python",
   "pygments_lexer": "ipython3",
   "version": "3.13.5"
  }
 },
 "nbformat": 4,
 "nbformat_minor": 5
}
