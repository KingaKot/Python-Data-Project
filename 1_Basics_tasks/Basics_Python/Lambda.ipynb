{
 "cells": [
  {
   "cell_type": "code",
   "execution_count": 2,
   "id": "caef4f63",
   "metadata": {},
   "outputs": [
    {
     "data": {
      "text/plain": [
       "108000.0"
      ]
     },
     "execution_count": 2,
     "metadata": {},
     "output_type": "execute_result"
    }
   ],
   "source": [
    "# Create a lambda function to calculate the average salary from a list of salaries. With salaries set as [95000, 120000, 105000, 90000, 130000].\n",
    "\n",
    "salaries = [95000, 120000, 105000, 90000, 130000]\n",
    "average_salary = lambda salary_list: sum(salary_list) / len(salary_list)\n",
    "average = average_salary(salaries)\n",
    "average\n"
   ]
  },
  {
   "cell_type": "code",
   "execution_count": 3,
   "id": "34eb2a28",
   "metadata": {},
   "outputs": [
    {
     "data": {
      "text/plain": [
       "['Data Scientist', 'Data Engineer', 'Data Analyst']"
      ]
     },
     "execution_count": 3,
     "metadata": {},
     "output_type": "execute_result"
    }
   ],
   "source": [
    "# Create a lambda function to check if a job title contains the word 'Data' and use it to filter a list of job titles. \n",
    "# With job_titles set to ['Data Scientist', 'Data Engineer', 'Machine Learning Engineer', 'Data Analyst'].\n",
    "\n",
    "job_titles = ['Data Scientist', 'Data Engineer', 'Machine Learning Engineer', 'Data Analyst']\n",
    "\n",
    "contains_data = lambda title: 'Data' in title\n",
    "filtered_titles = list(filter(contains_data, job_titles))\n",
    "filtered_titles\n"
   ]
  },
  {
   "cell_type": "code",
   "execution_count": 4,
   "id": "7d65383b",
   "metadata": {},
   "outputs": [
    {
     "data": {
      "text/plain": [
       "[{'title': 'Data Scientist', 'skills': ['Python', 'SQL'], 'remote': True},\n",
       " {'title': 'Machine Learning Engineer',\n",
       "  'skills': ['Python', 'TensorFlow'],\n",
       "  'remote': True}]"
      ]
     },
     "execution_count": 4,
     "metadata": {},
     "output_type": "execute_result"
    }
   ],
   "source": [
    "# Create a lambda function to filter remote job postings that require Python skills from a list of job postings. The list for the variable job_postings is shown below.\n",
    "\n",
    "job_postings = [\n",
    "    {'title': 'Data Scientist', 'skills': ['Python', 'SQL'], 'remote': True},\n",
    "    {'title': 'Data Analyst', 'skills': ['Excel', 'SQL'], 'remote': False},\n",
    "    {'title': 'Machine Learning Engineer', 'skills': ['Python', 'TensorFlow'], 'remote': True},\n",
    "    {'title': 'Software Developer', 'skills': ['Java', 'C++'], 'remote': True}\n",
    "]\n",
    "\n",
    "filter_postings = lambda posting: 'Python' in posting['skills'] and posting['remote']\n",
    "remote_python_postings = list(filter(filter_postings, job_postings))\n",
    "remote_python_postings\n"
   ]
  }
 ],
 "metadata": {
  "kernelspec": {
   "display_name": "data_project",
   "language": "python",
   "name": "python3"
  },
  "language_info": {
   "codemirror_mode": {
    "name": "ipython",
    "version": 3
   },
   "file_extension": ".py",
   "mimetype": "text/x-python",
   "name": "python",
   "nbconvert_exporter": "python",
   "pygments_lexer": "ipython3",
   "version": "3.13.5"
  }
 },
 "nbformat": 4,
 "nbformat_minor": 5
}
