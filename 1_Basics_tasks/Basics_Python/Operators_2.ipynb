{
 "cells": [
  {
   "cell_type": "code",
   "execution_count": 1,
   "id": "bfc5026f",
   "metadata": {},
   "outputs": [
    {
     "name": "stdout",
     "output_type": "stream",
     "text": [
      "True\n"
     ]
    }
   ],
   "source": [
    "# Check if the job_title1 of 'Data Engineer' is not the same object as the job_title2 of 'Data Scientist' and print the result.\n",
    "\n",
    "job_title1 = 'Data Engineer'\n",
    "job_title2 = 'Data Scientist'\n",
    "print(job_title1 is not job_title2)\n"
   ]
  },
  {
   "cell_type": "code",
   "execution_count": 2,
   "id": "ee182a5f",
   "metadata": {},
   "outputs": [
    {
     "name": "stdout",
     "output_type": "stream",
     "text": [
      "True\n"
     ]
    }
   ],
   "source": [
    "# Determine if the job location 'New York' is in the list of job_locations ['New York', 'San Francisco', 'Austin'] and print the result.\n",
    "\n",
    "job_locations = ['New York', 'San Francisco', 'Austin']\n",
    "print('New York' in job_locations)\n"
   ]
  },
  {
   "cell_type": "code",
   "execution_count": 3,
   "id": "a053a988",
   "metadata": {},
   "outputs": [
    {
     "name": "stdout",
     "output_type": "stream",
     "text": [
      "True\n"
     ]
    }
   ],
   "source": [
    "# Check if the job_title 'Data Analyst' is not in the job_description string 'Data Scientist at Tech Corp' and print the result.\n",
    "\n",
    "job_title = 'Data Analyst'\n",
    "job_description = 'Data Scientist at Tech Corp'\n",
    "print(job_title not in job_description)\n"
   ]
  },
  {
   "cell_type": "code",
   "execution_count": 4,
   "id": "5f312d98",
   "metadata": {},
   "outputs": [
    {
     "name": "stdout",
     "output_type": "stream",
     "text": [
      "True\n"
     ]
    }
   ],
   "source": [
    "# Check if both 'Data Scientist' and 'Machine Learning Engineer' are in the list of job titles ['Data Scientist', 'Data Analyst', 'Machine Learning Engineer'] \n",
    "# and print the result.\n",
    "\n",
    "job_titles = ['Data Scientist', 'Data Analyst', 'Machine Learning Engineer']\n",
    "print('Data Scientist' in job_titles and 'Machine Learning Engineer' in job_titles)\n"
   ]
  },
  {
   "cell_type": "code",
   "execution_count": 5,
   "id": "d6a19e51",
   "metadata": {},
   "outputs": [
    {
     "name": "stdout",
     "output_type": "stream",
     "text": [
      "116720\n"
     ]
    }
   ],
   "source": [
    "# Perform a bitwise OR operation on the binary representations of the salaries 100000 and 50000 and print the result. Named salary1 and salary2 respectively.\n",
    "\n",
    "salary1 = 100000\n",
    "salary2 = 50000\n",
    "result = salary1 | salary2\n",
    "print(result)\n"
   ]
  }
 ],
 "metadata": {
  "kernelspec": {
   "display_name": "data_project",
   "language": "python",
   "name": "python3"
  },
  "language_info": {
   "codemirror_mode": {
    "name": "ipython",
    "version": 3
   },
   "file_extension": ".py",
   "mimetype": "text/x-python",
   "name": "python",
   "nbconvert_exporter": "python",
   "pygments_lexer": "ipython3",
   "version": "3.13.5"
  }
 },
 "nbformat": 4,
 "nbformat_minor": 5
}
