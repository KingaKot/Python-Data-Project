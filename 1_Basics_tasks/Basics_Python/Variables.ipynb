{
 "cells": [
  {
   "cell_type": "code",
   "execution_count": null,
   "id": "fc953cd0",
   "metadata": {},
   "outputs": [
    {
     "name": "stdout",
     "output_type": "stream",
     "text": [
      "42\n"
     ]
    }
   ],
   "source": [
    "# Create a variable, called job_count to store the number 42. Print job_count once calculated.\n",
    "\n",
    "job_count = 42\n",
    "print(job_count)"
   ]
  },
  {
   "cell_type": "code",
   "execution_count": 2,
   "id": "85673f6f",
   "metadata": {},
   "outputs": [
    {
     "name": "stdout",
     "output_type": "stream",
     "text": [
      "Data Engineer DataWorks True\n"
     ]
    }
   ],
   "source": [
    "# Create variables to store the job title, company name, and whether the job is remote for a Data Engineer position. \n",
    "# Set the job title to 'Data Engineer', the company name to 'DataWorks', and the remote status to True. Print all the variables.\n",
    "\n",
    "job_title = 'Data Engineer'\n",
    "company_name = 'DataWorks'\n",
    "remote_status = True\n",
    "print(job_title, company_name, remote_status)"
   ]
  },
  {
   "cell_type": "code",
   "execution_count": 3,
   "id": "031a0650",
   "metadata": {},
   "outputs": [
    {
     "name": "stdout",
     "output_type": "stream",
     "text": [
      "140000\n"
     ]
    }
   ],
   "source": [
    "# Calculate the total compensation for a Data Scientist by adding two variables of base_salary and bonus. \n",
    "# The base salary is 120000 and the bonus is 20000. Store the result in a variable named total_compensation. Print total_compensation once calculated.\n",
    "\n",
    "base_salary = 120000\n",
    "bonus = 20000\n",
    "total_compensation = base_salary + bonus\n",
    "print(total_compensation)"
   ]
  },
  {
   "cell_type": "code",
   "execution_count": 4,
   "id": "523da4e6",
   "metadata": {},
   "outputs": [
    {
     "name": "stdout",
     "output_type": "stream",
     "text": [
      "6000.0\n"
     ]
    }
   ],
   "source": [
    "# Calculate the monthly salary of a Data Analyst job by dividing the annual salary of $72K by 12 and then printing the monthly salary. \n",
    "# Assign appropriate variable names for each.\n",
    "\n",
    "annual_salary = 72000\n",
    "monthly_salary = annual_salary / 12\n",
    "print(monthly_salary)"
   ]
  },
  {
   "cell_type": "code",
   "execution_count": 5,
   "id": "bef797d8",
   "metadata": {},
   "outputs": [
    {
     "name": "stdout",
     "output_type": "stream",
     "text": [
      "Data Scientist AI Solutions 121000.0\n"
     ]
    }
   ],
   "source": [
    "# Create variables to store the job title, company name, and salary for a Data Scientist position at AI Solutions for $110K. \n",
    "# Then, calculate the total compensation by adding a 10% bonus to the salary and print the total compensation, along with the job and company name.\n",
    "\n",
    "job_title = 'Data Scientist'\n",
    "company_name = 'AI Solutions'\n",
    "salary = 110000\n",
    "bonus = salary * 0.1\n",
    "total_compensation = salary + bonus\n",
    "print(job_title, company_name, total_compensation)"
   ]
  }
 ],
 "metadata": {
  "kernelspec": {
   "display_name": "data_project",
   "language": "python",
   "name": "python3"
  },
  "language_info": {
   "codemirror_mode": {
    "name": "ipython",
    "version": 3
   },
   "file_extension": ".py",
   "mimetype": "text/x-python",
   "name": "python",
   "nbconvert_exporter": "python",
   "pygments_lexer": "ipython3",
   "version": "3.13.5"
  }
 },
 "nbformat": 4,
 "nbformat_minor": 5
}
