{
 "cells": [
  {
   "cell_type": "code",
   "execution_count": 1,
   "id": "7010247d",
   "metadata": {},
   "outputs": [
    {
     "name": "stdout",
     "output_type": "stream",
     "text": [
      "DATA SCIENTIST\n"
     ]
    }
   ],
   "source": [
    "# Convert the string job_title to uppercase. The variable is set to 'data scientist'.\n",
    "\n",
    "job_title = 'data scientist'\n",
    "job_title_upper = job_title.upper()\n",
    "print(job_title_upper)"
   ]
  },
  {
   "cell_type": "code",
   "execution_count": 2,
   "id": "7bcd90a5",
   "metadata": {},
   "outputs": [
    {
     "name": "stdout",
     "output_type": "stream",
     "text": [
      "Data Engineer\n"
     ]
    }
   ],
   "source": [
    "# Replace the word 'Analyst' with 'Engineer' in the string job_title. The variable is set to 'Data Analyst'.\n",
    "\n",
    "job_title = 'Data Analyst'\n",
    "new_job_title = job_title.replace('Analyst', 'Engineer')\n",
    "print(new_job_title)"
   ]
  },
  {
   "cell_type": "code",
   "execution_count": 3,
   "id": "71f2bdbb",
   "metadata": {},
   "outputs": [
    {
     "name": "stdout",
     "output_type": "stream",
     "text": [
      "Senior Data Analyst\n"
     ]
    }
   ],
   "source": [
    "# Concatenate the strings seniority_level and job_title with a space in between. The variables are set to 'Senior' and 'Data Analyst' respectively.\n",
    "\n",
    "seniority_level = 'Senior'\n",
    "job_title = 'Data Analyst'\n",
    "full_job_title = seniority_level + ' ' + job_title\n",
    "print(full_job_title)"
   ]
  },
  {
   "cell_type": "code",
   "execution_count": 4,
   "id": "22359d3b",
   "metadata": {},
   "outputs": [
    {
     "name": "stdout",
     "output_type": "stream",
     "text": [
      "14\n"
     ]
    }
   ],
   "source": [
    "# Check the length of a string job_title. The variable is set to 'Data Scientist'.\n",
    "\n",
    "job_title = 'Data Scientist'\n",
    "job_title_length = len(job_title)\n",
    "print(job_title_length)"
   ]
  },
  {
   "cell_type": "code",
   "execution_count": 1,
   "id": "18d38573",
   "metadata": {},
   "outputs": [
    {
     "name": "stdout",
     "output_type": "stream",
     "text": [
      "data engineer\n"
     ]
    }
   ],
   "source": [
    "# Convert the string job_title to lowercase. The variable is set to 'DATA ENGINEER'.\n",
    "\n",
    "job_title = 'DATA ENGINEER'\n",
    "job_title_lower = job_title.lower()\n",
    "print(job_title_lower)"
   ]
  }
 ],
 "metadata": {
  "kernelspec": {
   "display_name": "data_project",
   "language": "python",
   "name": "python3"
  },
  "language_info": {
   "codemirror_mode": {
    "name": "ipython",
    "version": 3
   },
   "file_extension": ".py",
   "mimetype": "text/x-python",
   "name": "python",
   "nbconvert_exporter": "python",
   "pygments_lexer": "ipython3",
   "version": "3.13.5"
  }
 },
 "nbformat": 4,
 "nbformat_minor": 5
}
