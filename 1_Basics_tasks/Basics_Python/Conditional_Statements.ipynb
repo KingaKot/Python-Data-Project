{
 "cells": [
  {
   "cell_type": "code",
   "execution_count": 1,
   "id": "a2745908",
   "metadata": {},
   "outputs": [
    {
     "name": "stdout",
     "output_type": "stream",
     "text": [
      "Intermediate\n"
     ]
    }
   ],
   "source": [
    "# Output someone's skill level based on the number of years someone has been using Python. Use the following criteria:\n",
    "# Less than 2 years is 'Beginner'\n",
    "# 2 or more years is 'Intermediate'\n",
    "# Set the variable python_experience to 3 and test this variable in the if statement.\n",
    "\n",
    "python_experience = 3\n",
    "if python_experience < 2:\n",
    "    skill_level = 'Beginner'\n",
    "else:\n",
    "    skill_level = 'Intermediate'\n",
    "print(skill_level)"
   ]
  },
  {
   "cell_type": "code",
   "execution_count": 2,
   "id": "9b260d0a",
   "metadata": {},
   "outputs": [
    {
     "name": "stdout",
     "output_type": "stream",
     "text": [
      "Intermediate\n"
     ]
    }
   ],
   "source": [
    "# Output someone's skill level based on the number of data science tools they know. Use the following criteria:\n",
    "# 0-1 tools is 'Beginner'\n",
    "# 2-4 tools is 'Intermediate'\n",
    "# More than 4 tools is 'Advanced'\n",
    "# The variable tools_known is set to 3 to test with the if statement.\n",
    "\n",
    "tools_known = 3\n",
    "if tools_known <= 1:\n",
    "    skill_level = 'Beginner'\n",
    "elif tools_known <= 4:\n",
    "    skill_level = 'Intermediate'\n",
    "else:\n",
    "    skill_level = 'Advanced'\n",
    "print(skill_level)"
   ]
  },
  {
   "cell_type": "code",
   "execution_count": 3,
   "id": "ee74ca87",
   "metadata": {},
   "outputs": [
    {
     "name": "stdout",
     "output_type": "stream",
     "text": [
      "Senior Analyst\n"
     ]
    }
   ],
   "source": [
    "# Determine the job_title based on years of job experience and years of SQL experience. The variable job_experience is set to 4 and sql_experience is set to 2. Use the following criteria:\n",
    "\n",
    "# Less than 2 years of job experience:\n",
    "\n",
    "# 0 SQL experience → \"Associate Analyst\"\n",
    "# 1+ years of SQL experience → \"Junior Analyst\"\n",
    "# 2 to 5 years of job experience:\n",
    "\n",
    "# 0 SQL experience → \"Associate Analyst\"\n",
    "# 1 year of SQL experience → \"Intermediate Analyst\"\n",
    "# 2+ years of SQL experience → \"Senior Analyst\"\n",
    "# More than 5 years of job experience:\n",
    "\n",
    "# 0–2 years of SQL experience → \"Data Analyst\"\n",
    "# 3+ years of SQL experience → \"Lead Analyst\"\n",
    "\n",
    "job_experience = 4\n",
    "sql_experience = 2\n",
    "\n",
    "if job_experience < 2:\n",
    "    if sql_experience == 0:\n",
    "        job_title = \"Associate Analyst\"\n",
    "    else:\n",
    "        job_title = \"Junior Analyst\"\n",
    "elif job_experience > 5:\n",
    "    if sql_experience >= 3:\n",
    "        job_title = \"Lead Analyst\"\n",
    "    else:\n",
    "        job_title = \"Data Analyst\"\n",
    "else:  # 2 to 5 years of experience\n",
    "    if sql_experience == 0:\n",
    "        job_title = \"Associate Analyst\"\n",
    "    elif sql_experience == 1:\n",
    "        job_title = \"Intermediate Analyst\"\n",
    "    else:\n",
    "        job_title = \"Senior Analyst\"\n",
    "\n",
    "print(job_title) "
   ]
  }
 ],
 "metadata": {
  "kernelspec": {
   "display_name": "data_project",
   "language": "python",
   "name": "python3"
  },
  "language_info": {
   "codemirror_mode": {
    "name": "ipython",
    "version": 3
   },
   "file_extension": ".py",
   "mimetype": "text/x-python",
   "name": "python",
   "nbconvert_exporter": "python",
   "pygments_lexer": "ipython3",
   "version": "3.13.5"
  }
 },
 "nbformat": 4,
 "nbformat_minor": 5
}
