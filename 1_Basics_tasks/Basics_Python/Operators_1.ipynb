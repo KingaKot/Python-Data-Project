{
 "cells": [
  {
   "cell_type": "code",
   "execution_count": 1,
   "id": "cc6b76e6",
   "metadata": {},
   "outputs": [
    {
     "name": "stdout",
     "output_type": "stream",
     "text": [
      "96000\n"
     ]
    }
   ],
   "source": [
    "# Calculate the total annual salary for a data scientist given the monthly salary. The variable monthly_salary is set to 8000.\n",
    "\n",
    "monthly_salary = 8000\n",
    "annual_salary = monthly_salary * 12\n",
    "print(annual_salary)"
   ]
  },
  {
   "cell_type": "code",
   "execution_count": 2,
   "id": "2cc76904",
   "metadata": {},
   "outputs": [
    {
     "name": "stdout",
     "output_type": "stream",
     "text": [
      "False\n"
     ]
    }
   ],
   "source": [
    "# Determine if the average salary of a data analyst is greater than that of a data scientist. \n",
    "# The variables avg_salary_analyst and avg_salary_scientist are set to 70000 and 85000 respectively.\n",
    "\n",
    "avg_salary_analyst = 70000\n",
    "avg_salary_scientist = 85000\n",
    "is_analyst_salary_higher = avg_salary_analyst > avg_salary_scientist\n",
    "print(is_analyst_salary_higher)"
   ]
  },
  {
   "cell_type": "code",
   "execution_count": 3,
   "id": "0633de2a",
   "metadata": {},
   "outputs": [
    {
     "name": "stdout",
     "output_type": "stream",
     "text": [
      "56\n"
     ]
    }
   ],
   "source": [
    "# Calculate the remainder when the total number of job applications (variable total_applications is set to 123) \n",
    "# is divided by the number of job openings (variable job_openings is set to 67).\n",
    "\n",
    "total_applications = 123\n",
    "job_openings = 67\n",
    "remainder = total_applications % job_openings\n",
    "print(remainder)"
   ]
  },
  {
   "cell_type": "code",
   "execution_count": 4,
   "id": "43eabe2a",
   "metadata": {},
   "outputs": [
    {
     "name": "stdout",
     "output_type": "stream",
     "text": [
      "25\n"
     ]
    }
   ],
   "source": [
    "# Increment (or increase) the variable job_postings by 5. The variable job_postings is intially set to 20.\n",
    "\n",
    "job_postings = 20\n",
    "job_postings += 5\n",
    "print(job_postings)"
   ]
  },
  {
   "cell_type": "code",
   "execution_count": 5,
   "id": "846ba250",
   "metadata": {},
   "outputs": [
    {
     "name": "stdout",
     "output_type": "stream",
     "text": [
      "85000.0\n"
     ]
    }
   ],
   "source": [
    "# Calculate the average salary from the minimum and maximum salaries. The variables min_salary and max_salary are set to 50000 and 120000 respectively.\n",
    "\n",
    "min_salary = 50000\n",
    "max_salary = 120000\n",
    "average_salary = (min_salary + max_salary) / 2\n",
    "print(average_salary)"
   ]
  }
 ],
 "metadata": {
  "kernelspec": {
   "display_name": "data_project",
   "language": "python",
   "name": "python3"
  },
  "language_info": {
   "codemirror_mode": {
    "name": "ipython",
    "version": 3
   },
   "file_extension": ".py",
   "mimetype": "text/x-python",
   "name": "python",
   "nbconvert_exporter": "python",
   "pygments_lexer": "ipython3",
   "version": "3.13.5"
  }
 },
 "nbformat": 4,
 "nbformat_minor": 5
}
