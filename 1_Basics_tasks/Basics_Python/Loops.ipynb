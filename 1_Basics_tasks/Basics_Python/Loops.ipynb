{
 "cells": [
  {
   "cell_type": "code",
   "execution_count": 1,
   "id": "8d32bcc4",
   "metadata": {},
   "outputs": [
    {
     "name": "stdout",
     "output_type": "stream",
     "text": [
      "Data Scientist\n",
      "Data Analyst\n",
      "Machine Learning Engineer\n"
     ]
    }
   ],
   "source": [
    "# Print the job titles from the list job_titles using a for loop. The list job_titles is set to ['Data Scientist', 'Data Analyst', 'Machine Learning Engineer'].\n",
    "\n",
    "job_titles = ['Data Scientist', 'Data Analyst', 'Machine Learning Engineer']\n",
    "for title in job_titles:\n",
    "    print(title)\n"
   ]
  },
  {
   "cell_type": "code",
   "execution_count": 2,
   "id": "9825b615",
   "metadata": {},
   "outputs": [
    {
     "name": "stdout",
     "output_type": "stream",
     "text": [
      "75\n"
     ]
    }
   ],
   "source": [
    "# Calculate the total number of job postings from a list using a while loop. The list of job postings is [5, 10, 15, 20, 25].\n",
    "\n",
    "job_postings = [5, 10, 15, 20, 25]\n",
    "\n",
    "total_postings = 0\n",
    "index = 0\n",
    "while index < len(job_postings):\n",
    "    total_postings += job_postings[index]\n",
    "    index += 1\n",
    "print(total_postings)\n"
   ]
  },
  {
   "cell_type": "code",
   "execution_count": 3,
   "id": "8b4654bf",
   "metadata": {},
   "outputs": [
    {
     "name": "stdout",
     "output_type": "stream",
     "text": [
      "0: Data Scientist\n",
      "1: Data Analyst\n",
      "2: Machine Learning Engineer\n"
     ]
    }
   ],
   "source": [
    "# Print the job titles from the list job_titles along with their index using a for loop and the enumerate() function. The list job_titles is set to ['Data Scientist', 'Data Analyst', 'Machine Learning Engineer'].\n",
    "\n",
    "job_titles = ['Data Scientist', 'Data Analyst', 'Machine Learning Engineer']\n",
    "for index, title in enumerate(job_titles):\n",
    "    print(f'{index}: {title}')\n"
   ]
  },
  {
   "cell_type": "code",
   "execution_count": 4,
   "id": "1d006ca8",
   "metadata": {},
   "outputs": [
    {
     "name": "stdout",
     "output_type": "stream",
     "text": [
      "Machine Learning Engineer\n"
     ]
    }
   ],
   "source": [
    "# Use a while loop to find the first job title that contains the word 'Engineer'. \n",
    "# The list of job titles is ['Data Scientist', 'Data Analyst', 'Machine Learning Engineer', 'Software Engineer'].\n",
    "\n",
    "index = 0\n",
    "while index < len(job_titles):\n",
    "    if 'Engineer' in job_titles[index]:\n",
    "        print(job_titles[index])\n",
    "        break\n",
    "    index += 1\n"
   ]
  },
  {
   "cell_type": "code",
   "execution_count": 5,
   "id": "86b48f6a",
   "metadata": {},
   "outputs": [
    {
     "name": "stdout",
     "output_type": "stream",
     "text": [
      "The role of Data Scientist, requires proficiency in Python.\n",
      "The role of Data Scientist, requires proficiency in R.\n",
      "The role of Data Analyst, requires proficiency in SQL.\n",
      "The role of Data Analyst, requires proficiency in Excel.\n",
      "The role of Machine Learning Engineer, requires proficiency in Python.\n",
      "The role of Machine Learning Engineer, requires proficiency in TensorFlow.\n"
     ]
    }
   ],
   "source": [
    "# You have the following dictionary of positions_skills which is set to {'Data Scientist': ['Python', 'R'], 'Data Analyst': ['SQL', 'Excel'], \n",
    "# 'Machine Learning Engineer': ['Python', 'TensorFlow']}. \n",
    "# The keys are a data science position, and the values are a list of skills required for the position. \n",
    "# Print a message for each individual skill required for these data science positions (e.g., \"The role of Data Scientist requires proficiency in Python\").\n",
    "\n",
    "positions_skills = {\n",
    "    'Data Scientist': ['Python', 'R'],\n",
    "    'Data Analyst': ['SQL', 'Excel'],\n",
    "    'Machine Learning Engineer': ['Python', 'TensorFlow']\n",
    "}\n",
    "for position, skills in positions_skills.items():\n",
    "    for skill in skills:\n",
    "        print(f'The role of {position}, requires proficiency in {skill}.')\n"
   ]
  }
 ],
 "metadata": {
  "kernelspec": {
   "display_name": "data_project",
   "language": "python",
   "name": "python3"
  },
  "language_info": {
   "codemirror_mode": {
    "name": "ipython",
    "version": 3
   },
   "file_extension": ".py",
   "mimetype": "text/x-python",
   "name": "python",
   "nbconvert_exporter": "python",
   "pygments_lexer": "ipython3",
   "version": "3.13.5"
  }
 },
 "nbformat": 4,
 "nbformat_minor": 5
}
