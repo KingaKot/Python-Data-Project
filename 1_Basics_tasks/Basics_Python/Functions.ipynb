{
 "cells": [
  {
   "cell_type": "code",
   "execution_count": 1,
   "id": "4b3a63fe",
   "metadata": {},
   "outputs": [
    {
     "data": {
      "text/plain": [
       "True"
      ]
     },
     "execution_count": 1,
     "metadata": {},
     "output_type": "execute_result"
    }
   ],
   "source": [
    "# Create a function job_title_contains that takes a job title and a keyword as arguments, and returns True if the job title contains the keyword, \n",
    "# otherwise returns False. \n",
    "# To confirm the function works, set the job_title to 'Data Scientist' and the keyword to 'Data'.\n",
    "\n",
    "def job_title_contains(job_title, keyword):\n",
    "    return keyword in job_title\n",
    "\n",
    "job_title = 'Data Scientist'\n",
    "keyword = 'Data'\n",
    "job_title_contains(job_title, keyword)\n"
   ]
  },
  {
   "cell_type": "code",
   "execution_count": 2,
   "id": "2b584144",
   "metadata": {},
   "outputs": [
    {
     "data": {
      "text/plain": [
       "108000.0"
      ]
     },
     "execution_count": 2,
     "metadata": {},
     "output_type": "execute_result"
    }
   ],
   "source": [
    "# Create a function average_salary that takes a list of salaries and returns the average salary. With the salaries set as [95000, 120000, 105000, 90000, 130000].\n",
    "\n",
    "def average_salary(salaries):\n",
    "    return sum(salaries) / len(salaries)\n",
    "\n",
    "salaries = [95000, 120000, 105000, 90000, 130000]\n",
    "average_salary(salaries)\n"
   ]
  },
  {
   "cell_type": "code",
   "execution_count": 3,
   "id": "f68e5f13",
   "metadata": {},
   "outputs": [
    {
     "data": {
      "text/plain": [
       "{'min': 90000, 'max': 130000, 'average': 108000.0}"
      ]
     },
     "execution_count": 3,
     "metadata": {},
     "output_type": "execute_result"
    }
   ],
   "source": [
    "# Create a function salary_statistics that takes a list of salaries and returns a dictionary with the minimum, maximum, and average salary. \n",
    "# The list of salaries is set to [95000, 120000, 105000, 90000, 130000].\n",
    "\n",
    "def salary_statistics(salaries):\n",
    "    return {\n",
    "        'min': min(salaries),\n",
    "        'max': max(salaries),\n",
    "        'average': sum(salaries) / len(salaries)\n",
    "    }\n",
    "\n",
    "salaries = [95000, 120000, 105000, 90000, 130000]\n",
    "salary_statistics(salaries)\n"
   ]
  },
  {
   "cell_type": "code",
   "execution_count": 4,
   "id": "2b0a9fa8",
   "metadata": {},
   "outputs": [
    {
     "data": {
      "text/plain": [
       "{'total_postings': 3,\n",
       " 'average_salary': 98333.33333333333,\n",
       " 'unique_locations': ['New York', 'San Francisco']}"
      ]
     },
     "execution_count": 4,
     "metadata": {},
     "output_type": "execute_result"
    }
   ],
   "source": [
    "# Create a function job_posting_summary that takes a list of job postings, where each posting is a dictionary with keys 'title', 'location', and 'salary', \n",
    "# and returns a summary dictionary with the total number of postings, the average salary, and a list of unique locations. \n",
    "# The job_postings is set to [{'title': 'Data Scientist', 'location': 'New York', 'salary': 95000}, {'title': 'Data Analyst', 'location': 'San Francisco', 'salary': 85000},\n",
    "# {'title': 'Machine Learning Engineer', 'location': 'New York', 'salary': 115000}].\n",
    "\n",
    "def job_posting_summary(job_postings):\n",
    "    total_postings = len(job_postings)\n",
    "    total_salary = sum(posting['salary'] for posting in job_postings)\n",
    "    average_salary = total_salary / total_postings\n",
    "    unique_locations = list(set(posting['location'] for posting in job_postings))\n",
    "    return {\n",
    "        'total_postings': total_postings,\n",
    "        'average_salary': average_salary,\n",
    "        'unique_locations': unique_locations\n",
    "    }\n",
    "\n",
    "job_postings = [\n",
    "    {'title': 'Data Scientist', 'location': 'New York', 'salary': 95000},\n",
    "    {'title': 'Data Analyst', 'location': 'San Francisco', 'salary': 85000},\n",
    "    {'title': 'Machine Learning Engineer', 'location': 'New York', 'salary': 115000}\n",
    "]\n",
    "job_posting_summary(job_postings)\n",
    "\n"
   ]
  }
 ],
 "metadata": {
  "kernelspec": {
   "display_name": "data_project",
   "language": "python",
   "name": "python3"
  },
  "language_info": {
   "codemirror_mode": {
    "name": "ipython",
    "version": 3
   },
   "file_extension": ".py",
   "mimetype": "text/x-python",
   "name": "python",
   "nbconvert_exporter": "python",
   "pygments_lexer": "ipython3",
   "version": "3.13.5"
  }
 },
 "nbformat": 4,
 "nbformat_minor": 5
}
