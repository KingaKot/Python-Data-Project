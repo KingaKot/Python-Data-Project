{
 "cells": [
  {
   "cell_type": "code",
   "execution_count": 2,
   "id": "2cda8808",
   "metadata": {},
   "outputs": [
    {
     "name": "stdout",
     "output_type": "stream",
     "text": [
      "[85000.0, 102000.0, 68000.0, 76500.0]\n"
     ]
    }
   ],
   "source": [
    "# Create a list comprehension that converts a list of salaries from USD to EUR using a conversion rate of 0.85. \n",
    "# With the list of salaries being: salaries_usd = [100000, 120000, 80000, 90000].\n",
    "\n",
    "salaries_usd = [100000, 120000, 80000, 90000]\n",
    "salaries_eur = [salary * 0.85 for salary in salaries_usd]\n",
    "print(salaries_eur)"
   ]
  },
  {
   "cell_type": "code",
   "execution_count": 3,
   "id": "c3b4740e",
   "metadata": {},
   "outputs": [
    {
     "name": "stdout",
     "output_type": "stream",
     "text": [
      "['Data Scientist', 'Machine Learning Specialist']\n"
     ]
    }
   ],
   "source": [
    "# Create a list of data science job titles that require more than 2 years of experience from the given dictionary. \n",
    "# With job_experience set to {'Data Scientist': 3, 'Data Analyst': 1, 'Machine Learning Specialist': 4, 'Data Engineer': 2}.\n",
    "\n",
    "job_experience = {'Data Scientist': 3, 'Data Analyst': 1, 'Machine Learning Specialist': 4, 'Data Engineer': 2}\n",
    "experienced_jobs = [job for job, exp in job_experience.items() if exp > 2]\n",
    "print(experienced_jobs)\n"
   ]
  },
  {
   "cell_type": "code",
   "execution_count": 4,
   "id": "31ec02f1",
   "metadata": {},
   "outputs": [
    {
     "name": "stdout",
     "output_type": "stream",
     "text": [
      "['Data Scientist', 'Data Analyst']\n"
     ]
    }
   ],
   "source": [
    "# Create a list comprehension that extracts job titles with salaries greater than 90,000 from a given list of dictionaries containing job titles and salaries. \n",
    "# The dictionary is job_salary_dicts named and it is set to [{'job_title': 'Data Scientist', 'salary': 100000}, {'job_title': 'Data Analyst', 'salary': 120000},\n",
    "# {'job_title': 'Data Engineer', 'salary': 80000}, {'job_title': 'Machine Learning Engineer', 'salary': 90000}].\n",
    "\n",
    "job_salary_dicts = [  \n",
    "    {'job_title': 'Data Scientist', 'salary': 100000},\n",
    "    {'job_title': 'Data Analyst', 'salary': 120000},\n",
    "    {'job_title': 'Data Engineer', 'salary': 80000},\n",
    "    {'job_title': 'Machine Learning Engineer', 'salary': 90000}\n",
    "]\n",
    "high_salary_jobs = [job['job_title'] for job in job_salary_dicts if job['salary'] > 90000]\n",
    "print(high_salary_jobs)"
   ]
  }
 ],
 "metadata": {
  "kernelspec": {
   "display_name": "data_project",
   "language": "python",
   "name": "python3"
  },
  "language_info": {
   "codemirror_mode": {
    "name": "ipython",
    "version": 3
   },
   "file_extension": ".py",
   "mimetype": "text/x-python",
   "name": "python",
   "nbconvert_exporter": "python",
   "pygments_lexer": "ipython3",
   "version": "3.13.5"
  }
 },
 "nbformat": 4,
 "nbformat_minor": 5
}
