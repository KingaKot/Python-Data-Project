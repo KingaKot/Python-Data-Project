{
 "cells": [
  {
   "cell_type": "code",
   "execution_count": 1,
   "id": "e6ea1bef",
   "metadata": {},
   "outputs": [
    {
     "name": "stdout",
     "output_type": "stream",
     "text": [
      "{'Machine Learning Engineer', 'Data Analyst', 'AI Specialist', 'Data Scientist'}\n"
     ]
    }
   ],
   "source": [
    "# Add a new job title 'AI Specialist' to the set of unique job titles and print the updated set. \n",
    "# The initial set of unique_job_titles is {'Data Scientist', 'Data Analyst', 'Machine Learning Engineer'}.\n",
    "\n",
    "unique_job_titles = {'Data Scientist', 'Data Analyst', 'Machine Learning Engineer'}\n",
    "unique_job_titles.add('AI Specialist')\n",
    "print(unique_job_titles)\n"
   ]
  },
  {
   "cell_type": "code",
   "execution_count": 2,
   "id": "d316db22",
   "metadata": {},
   "outputs": [
    {
     "name": "stdout",
     "output_type": "stream",
     "text": [
      "{'Machine Learning Engineer', 'Data Scientist'}\n"
     ]
    }
   ],
   "source": [
    "# Remove the job title 'Data Analyst' from the set of unique job titles and print the updated set. \n",
    "# The initial set of unique_job_titles is {'Data Scientist', 'Data Analyst', 'Machine Learning Engineer'}.\n",
    "\n",
    "unique_job_titles = {'Data Scientist', 'Data Analyst', 'Machine Learning Engineer'}\n",
    "unique_job_titles.remove('Data Analyst')\n",
    "print(unique_job_titles)"
   ]
  },
  {
   "cell_type": "code",
   "execution_count": 3,
   "id": "f0197113",
   "metadata": {},
   "outputs": [
    {
     "name": "stdout",
     "output_type": "stream",
     "text": [
      "{'New York', 'San Francisco', 'Austin'}\n"
     ]
    }
   ],
   "source": [
    "# Create a set of job locations named job_locations from a list of job locations for data science roles and print the set.\n",
    "#  The list is ['New York', 'San Francisco', 'New York', 'Austin', 'San Francisco'].\n",
    "\n",
    "job_locations = ['New York', 'San Francisco', 'New York', 'Austin', 'San Francisco']\n",
    "unique_job_locations = set(job_locations)\n",
    "print(unique_job_locations)"
   ]
  },
  {
   "cell_type": "code",
   "execution_count": 4,
   "id": "19c0b0b8",
   "metadata": {},
   "outputs": [
    {
     "name": "stdout",
     "output_type": "stream",
     "text": [
      "{'SQL', 'Machine Learning', 'Python', 'R', 'Tableau'}\n"
     ]
    }
   ],
   "source": [
    "# Find the union of two sets of job skills and print the result. The first set is {'Python', 'SQL', 'Tableau'} and the second set is {'R', 'SQL', 'Machine Learning'}.\n",
    "\n",
    "skills_set1 = {'Python', 'SQL', 'Tableau'}\n",
    "skills_set2 = {'R', 'SQL', 'Machine Learning'}\n",
    "all_skills = skills_set1.union(skills_set2)\n",
    "print(all_skills)"
   ]
  }
 ],
 "metadata": {
  "kernelspec": {
   "display_name": "data_project",
   "language": "python",
   "name": "python3"
  },
  "language_info": {
   "codemirror_mode": {
    "name": "ipython",
    "version": 3
   },
   "file_extension": ".py",
   "mimetype": "text/x-python",
   "name": "python",
   "nbconvert_exporter": "python",
   "pygments_lexer": "ipython3",
   "version": "3.13.5"
  }
 },
 "nbformat": 4,
 "nbformat_minor": 5
}
