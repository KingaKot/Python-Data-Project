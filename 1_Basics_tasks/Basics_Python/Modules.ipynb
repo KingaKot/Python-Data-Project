{
 "cells": [
  {
   "cell_type": "code",
   "execution_count": 1,
   "id": "d154a20d",
   "metadata": {},
   "outputs": [
    {
     "name": "stdout",
     "output_type": "stream",
     "text": [
      "Writing salary_calculator.py\n"
     ]
    }
   ],
   "source": [
    "%%writefile salary_calculator.py\n",
    "def calculate_annual_salary(hourly_wage, hours_per_week):\n",
    "    return hourly_wage * hours_per_week * 52"
   ]
  },
  {
   "cell_type": "code",
   "execution_count": 2,
   "id": "55870c1e",
   "metadata": {},
   "outputs": [
    {
     "name": "stdout",
     "output_type": "stream",
     "text": [
      "Writing job_filter.py\n"
     ]
    }
   ],
   "source": [
    "%%writefile job_filter.py\n",
    "def filter_by_location(job_postings, location):\n",
    "    return [job for job in job_postings if job['location'] == location] "
   ]
  }
 ],
 "metadata": {
  "kernelspec": {
   "display_name": "data_project",
   "language": "python",
   "name": "python3"
  },
  "language_info": {
   "codemirror_mode": {
    "name": "ipython",
    "version": 3
   },
   "file_extension": ".py",
   "mimetype": "text/x-python",
   "name": "python",
   "nbconvert_exporter": "python",
   "pygments_lexer": "ipython3",
   "version": "3.13.5"
  }
 },
 "nbformat": 4,
 "nbformat_minor": 5
}
