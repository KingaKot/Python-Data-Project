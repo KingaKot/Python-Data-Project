{
 "cells": [
  {
   "cell_type": "code",
   "execution_count": 6,
   "id": "ac1a7883",
   "metadata": {},
   "outputs": [],
   "source": [
    "from datasets import load_dataset\n",
    "import pandas as pd\n",
    "import numpy as np\n",
    "\n",
    "dataset = load_dataset('lukebarousse/data_jobs')\n",
    "df = dataset['train'].to_pandas()"
   ]
  },
  {
   "cell_type": "code",
   "execution_count": 8,
   "id": "7cfa3711",
   "metadata": {},
   "outputs": [
    {
     "name": "stdout",
     "output_type": "stream",
     "text": [
      "123286.27407182401\n"
     ]
    }
   ],
   "source": [
    "# Calculate the mean of the salary_year_avg column and display the result.\n",
    "\n",
    "mean_salary = df['salary_year_avg'].mean()\n",
    "print(mean_salary)"
   ]
  },
  {
   "cell_type": "code",
   "execution_count": 9,
   "id": "f773a108",
   "metadata": {},
   "outputs": [
    {
     "name": "stdout",
     "output_type": "stream",
     "text": [
      "115000.0\n"
     ]
    }
   ],
   "source": [
    "# Calculate the median of the salary_year_avg column and display the result.\n",
    "\n",
    "median_salary = df['salary_year_avg'].median()\n",
    "print(median_salary)"
   ]
  },
  {
   "cell_type": "code",
   "execution_count": 10,
   "id": "1fc07b7f",
   "metadata": {},
   "outputs": [
    {
     "data": {
      "text/plain": [
       "job_title_short\n",
       "Business Analyst             42.723415\n",
       "Cloud Engineer               45.560715\n",
       "Data Analyst                 38.106918\n",
       "Data Engineer                57.196998\n",
       "Data Scientist               49.361403\n",
       "Machine Learning Engineer    48.477935\n",
       "Senior Data Analyst          47.661218\n",
       "Senior Data Engineer         62.848496\n",
       "Senior Data Scientist        54.105631\n",
       "Software Engineer            46.452019\n",
       "Name: salary_hour_avg, dtype: float64"
      ]
     },
     "execution_count": 10,
     "metadata": {},
     "output_type": "execute_result"
    }
   ],
   "source": [
    "# Group the DataFrame by job_title_short and calculate the average salary_hour_avg for each job title. Display the result.\n",
    "\n",
    "avg_hourly_by_job = df.groupby('job_title_short')['salary_hour_avg'].mean()\n",
    "avg_hourly_by_job"
   ]
  },
  {
   "cell_type": "code",
   "execution_count": 11,
   "id": "49137cba",
   "metadata": {},
   "outputs": [
    {
     "data": {
      "text/plain": [
       "job_title_short    Data Scientist\n",
       "salary_hour_avg               8.0\n",
       "Name: 88185, dtype: object"
      ]
     },
     "execution_count": 11,
     "metadata": {},
     "output_type": "execute_result"
    }
   ],
   "source": [
    "# Find the job title with the lowest average hourly salary and display the job title and the salary.\n",
    "\n",
    "min_hourly_index = df['salary_hour_avg'].idxmin()\n",
    "min_hourly_job = df.iloc[min_hourly_index][['job_title_short', 'salary_hour_avg']]\n",
    "min_hourly_job"
   ]
  },
  {
   "cell_type": "code",
   "execution_count": 12,
   "id": "c2e0573f",
   "metadata": {},
   "outputs": [
    {
     "data": {
      "text/plain": [
       "job_country\n",
       "Afghanistan      16\n",
       "Albania         119\n",
       "Algeria         111\n",
       "Angola           11\n",
       "Argentina      8736\n",
       "               ... \n",
       "Venezuela        69\n",
       "Vietnam        2414\n",
       "Yemen            10\n",
       "Zambia          104\n",
       "Zimbabwe         81\n",
       "Length: 160, dtype: int64"
      ]
     },
     "execution_count": 12,
     "metadata": {},
     "output_type": "execute_result"
    }
   ],
   "source": [
    "# Group the DataFrame by job_country and calculate the total number of job postings for each country. Display the result.\n",
    "\n",
    "job_count_by_country = df.groupby('job_country').size()\n",
    "job_count_by_country"
   ]
  }
 ],
 "metadata": {
  "kernelspec": {
   "display_name": "data_project",
   "language": "python",
   "name": "python3"
  },
  "language_info": {
   "codemirror_mode": {
    "name": "ipython",
    "version": 3
   },
   "file_extension": ".py",
   "mimetype": "text/x-python",
   "name": "python",
   "nbconvert_exporter": "python",
   "pygments_lexer": "ipython3",
   "version": "3.13.5"
  }
 },
 "nbformat": 4,
 "nbformat_minor": 5
}
