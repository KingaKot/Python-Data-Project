{
 "cells": [
  {
   "cell_type": "code",
   "execution_count": 6,
   "id": "73a72382",
   "metadata": {},
   "outputs": [],
   "source": [
    "# Importing Libraries\n",
    "import pandas as pd\n",
    "from datasets import load_dataset\n",
    "import matplotlib.pyplot as plt\n",
    "\n",
    "# Loading Data\n",
    "dataset = load_dataset('lukebarousse/data_jobs')\n",
    "df = dataset['train'].to_pandas()\n",
    "\n",
    "# Data Cleanup\n",
    "df['job_posted_date'] = pd.to_datetime(df['job_posted_date'])"
   ]
  },
  {
   "cell_type": "code",
   "execution_count": null,
   "id": "f9af9c18",
   "metadata": {},
   "outputs": [
    {
     "name": "stdout",
     "output_type": "stream",
     "text": [
      "Length of Original df:        785741\n",
      "Length od drop duplicates df: 2703\n",
      "Rows dropped:                 783038\n"
     ]
    },
    {
     "data": {
      "text/plain": [
       "(785741, 2703)"
      ]
     },
     "execution_count": 9,
     "metadata": {},
     "output_type": "execute_result"
    }
   ],
   "source": [
    "# 1. Remove rows where the salary_year_avg column has missing values. \n",
    "# Display the number of rows before and after removing.\n",
    "df_unique = df\n",
    "df_unique = df_unique.drop_duplicates(subset = 'salary_year_avg')\n",
    "\n",
    "rows_before = len(df)\n",
    "rows_after = len(df_unique)\n",
    "\n",
    "print('Length of Original df:       ', len(df))\n",
    "print('Length od drop duplicates df:', len(df_unique))\n",
    "print('Rows dropped:                ', len(df) - len(df_unique))\n",
    "\n",
    "rows_before, rows_after"
   ]
  },
  {
   "cell_type": "code",
   "execution_count": null,
   "id": "b0cdc1dc",
   "metadata": {},
   "outputs": [
    {
     "data": {
      "text/plain": [
       "(785741, 17218)"
      ]
     },
     "execution_count": 14,
     "metadata": {},
     "output_type": "execute_result"
    }
   ],
   "source": [
    "# 2. Remove duplicate rows from the DataFrame based on the job_location column. \n",
    "# Display the number of rows before and after removing duplicates.\n",
    "\n",
    "df_unique = df.copy()\n",
    "df_unique = df_unique.drop_duplicates(subset = ['job_location'])\n",
    "\n",
    "rows_before = len(df)\n",
    "rows_after = len(df_unique)\n",
    "\n",
    "rows_before, rows_after"
   ]
  },
  {
   "cell_type": "code",
   "execution_count": null,
   "id": "fd6ceab2",
   "metadata": {},
   "outputs": [
    {
     "name": "stdout",
     "output_type": "stream",
     "text": [
      "0    None\n",
      "1    None\n",
      "2    None\n",
      "3    None\n",
      "4    None\n",
      "5    None\n",
      "6    None\n",
      "7    None\n",
      "8    None\n",
      "9    None\n",
      "Name: salary_rate, dtype: object\n",
      "0    Unknown\n",
      "1    Unknown\n",
      "2    Unknown\n",
      "3    Unknown\n",
      "4    Unknown\n",
      "5    Unknown\n",
      "6    Unknown\n",
      "7    Unknown\n",
      "8    Unknown\n",
      "9    Unknown\n",
      "Name: salary_rate, dtype: object\n"
     ]
    }
   ],
   "source": [
    "# 3. Fill missing values in the salary_rate column with the string 'Unknown'. \n",
    "# Display the first 10 rows of the salary_rate column before and after filling.\n",
    "\n",
    "df_new = df.copy()\n",
    "df_new['salary_rate'] = df_new['salary_rate'].fillna('Unknown')\n",
    "\n",
    "print(df['salary_rate'].head(10))\n",
    "print(df_new['salary_rate'].head(10))\n",
    "\n"
   ]
  }
 ],
 "metadata": {
  "kernelspec": {
   "display_name": "data_project",
   "language": "python",
   "name": "python3"
  },
  "language_info": {
   "codemirror_mode": {
    "name": "ipython",
    "version": 3
   },
   "file_extension": ".py",
   "mimetype": "text/x-python",
   "name": "python",
   "nbconvert_exporter": "python",
   "pygments_lexer": "ipython3",
   "version": "3.13.5"
  }
 },
 "nbformat": 4,
 "nbformat_minor": 5
}
