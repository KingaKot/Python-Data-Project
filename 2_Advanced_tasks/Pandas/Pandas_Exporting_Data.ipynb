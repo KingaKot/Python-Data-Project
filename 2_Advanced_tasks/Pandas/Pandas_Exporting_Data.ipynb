{
 "cells": [
  {
   "cell_type": "code",
   "execution_count": 12,
   "id": "6e2085a6",
   "metadata": {},
   "outputs": [],
   "source": [
    "# Importing Libraries\n",
    "import pandas as pd\n",
    "from datasets import load_dataset\n",
    "import matplotlib.pyplot as plt\n",
    "\n",
    "# Loading Data\n",
    "dataset = load_dataset('lukebarousse/data_jobs')\n",
    "df = dataset['train'].to_pandas()\n",
    "\n",
    "# Data Cleanup\n",
    "df['job_posted_date'] = pd.to_datetime(df['job_posted_date'])"
   ]
  },
  {
   "cell_type": "code",
   "execution_count": 13,
   "id": "6120fb54",
   "metadata": {},
   "outputs": [],
   "source": [
    "# 1. Export the DataFrame to a CSV file named data_jobs_export.csv without including the index. Inspect the contents of the CSV exported.\n",
    "\n",
    "df.to_csv('data_jobs_export.csv', index = False)"
   ]
  },
  {
   "cell_type": "code",
   "execution_count": 14,
   "id": "0b9094fb",
   "metadata": {},
   "outputs": [],
   "source": [
    "# 2. Filter the DataFrame to include only job postings with 'Data Scientist' in the job_title_short column.\n",
    "# Export the filtered DataFrame to a CSV file named data_scientist_jobs.csv without including the index.\n",
    "# Inspect that the CSV has been exported with the correct filtered data.\n",
    "\n",
    "df_new = df[df['job_title_short'] == 'Data Scientist']\n",
    "df_new.to_csv('data_scientist_jobs.csv', index = False)"
   ]
  },
  {
   "cell_type": "code",
   "execution_count": null,
   "id": "5c4493ec",
   "metadata": {},
   "outputs": [],
   "source": [
    "# 3. Filter the DataFrame to include only job postings with 'New York, NY' in the job_location column.\n",
    "# Export the filtered DataFrame to an Excel file named new_york_jobs.xlsx without including the index.\n",
    "\n",
    "df_ny = df[df['job_location'] == 'New York']\n",
    "df_ny.to_excel('new_york_jobs.xlsx', index = False)"
   ]
  }
 ],
 "metadata": {
  "kernelspec": {
   "display_name": "data_project",
   "language": "python",
   "name": "python3"
  },
  "language_info": {
   "codemirror_mode": {
    "name": "ipython",
    "version": 3
   },
   "file_extension": ".py",
   "mimetype": "text/x-python",
   "name": "python",
   "nbconvert_exporter": "python",
   "pygments_lexer": "ipython3",
   "version": "3.13.5"
  }
 },
 "nbformat": 4,
 "nbformat_minor": 5
}
